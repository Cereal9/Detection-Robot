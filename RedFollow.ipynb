{
 "cells": [
  {
   "cell_type": "code",
   "execution_count": null,
   "metadata": {},
   "outputs": [
    {
     "name": "stderr",
     "output_type": "stream",
     "text": [
      "Exception in thread Thread-5:\n",
      "Traceback (most recent call last):\n",
      "  File \"/usr/lib/python3.6/threading.py\", line 916, in _bootstrap_inner\n",
      "    self.run()\n",
      "  File \"/usr/lib/python3.6/threading.py\", line 864, in run\n",
      "    self._target(*self._args, **self._kwargs)\n",
      "  File \"<ipython-input-3-dfac873e7dc5>\", line 46, in jetbot_motion_center_x\n",
      "    robot.stop()\n",
      "AttributeError: module 'jetbot.robot' has no attribute 'stop'\n",
      "\n"
     ]
    },
    {
     "data": {
      "application/vnd.jupyter.widget-view+json": {
       "model_id": "e33e8c9ff39043418c5376252f1b0ea7",
       "version_major": 2,
       "version_minor": 0
      },
      "text/plain": [
       "Image(value=b'\\xff\\xd8\\xff\\xe0\\x00\\x10JFIF\\x00\\x01\\x01\\x00\\x00\\x01\\x00\\x01\\x00\\x00\\xff\\xdb\\x00C\\x00\\x02\\x01\\x0…"
      ]
     },
     "metadata": {},
     "output_type": "display_data"
    }
   ],
   "source": [
    "#Import function library path\n",
    "from IPython.display import display\n",
    "from uuid import uuid1\n",
    "import inspect\n",
    "import ctypes\n",
    "import traitlets\n",
    "import os\n",
    "import ipywidgets.widgets as widgets\n",
    "import PID\n",
    "import traitlets\n",
    "from jetbot import *\n",
    "import threading\n",
    "import time\n",
    "import cv2\n",
    "import traitlets\n",
    "import numpy as np\n",
    "#end import function library\n",
    "# is red obj pres or not. 1 when red object present else 0\n",
    "status = 0 \n",
    "# lower and upper bound of BGR values the robit will detect\n",
    "global color_lower\n",
    "global color_upper\n",
    "# xy coordinate of center of detected color and radius of detected color\n",
    "global color_x, color_y, color_radius\n",
    "\n",
    "camera = Camera.instance(width=300, height=300)\n",
    "#image = widgets.Image(format='jpeg', width=600, height=224)  # this width and height doesn't necessarily have to match the camera\n",
    "\n",
    "robot = Robot()\n",
    "\n",
    "color_image = widgets.Image(format='jpeg', width=600, height=300)\n",
    "camera_link = traitlets.dlink((camera, 'value'), (color_image, 'value'), transform=bgr8_to_jpeg)\n",
    "\n",
    "color_x = color_y = color_radius = 0\n",
    "\n",
    "display(color_image)\n",
    "\n",
    "# assign values to color bounds. Current value assigned 2/10/23 is [0,0,100] __> [75,75,255] which covers area of red\n",
    "color_lower=np.array([0,0,100])\n",
    "color_upper = np.array([75, 75, 255])\n",
    "\n",
    "def jetbot_motion_center_x():\n",
    "    while 1:\n",
    "        if status == 0:\n",
    "            #no red object then the robot does not move\n",
    "            robot.stop()\n",
    "            time.sleep(.01)\n",
    "        else:\n",
    "            #red object detected the robot move\n",
    "            if color_x >= 170:\n",
    "                #red object detected on right of camera rotate right\n",
    "                setleft = .75\n",
    "                setright = -.75 \n",
    "            elif color_x <= 130:\n",
    "                #red object detected on left of camera rotate left\n",
    "                setleft = -.75\n",
    "                setright = .75\n",
    "            else :\n",
    "                #red object on camera center move straight\n",
    "                setleft = 1\n",
    "                setright = 1\n",
    "                \n",
    "            robot.set_motors(setleft,setright)\n",
    "            time.sleep(.01)\n",
    "\n",
    "thread2 = threading.Thread(target=jetbot_motion_center_x)\n",
    "thread2.setDaemon(True)\n",
    "thread2.start()\n",
    "\n",
    "while 1:\n",
    "    #capture camera frame\n",
    "    frame = camera.value\n",
    "    #resize camera frame idk y\n",
    "    frame = cv2.resize(frame, (300, 300))\n",
    "    #add gaussian blur. this has yet to improve performace but it came stock\n",
    "    frame_=cv2.GaussianBlur(frame,(1,1),0)  \n",
    "    mask=cv2.inRange(frame,color_lower,color_upper)\n",
    "    mask=cv2.erode(mask,None,iterations=2)\n",
    "    mask=cv2.dilate(mask,None,iterations=2)\n",
    "    mask=cv2.GaussianBlur(mask,(1,1),0)     \n",
    "    cnts=cv2.findContours(mask.copy(),cv2.RETR_EXTERNAL,cv2.CHAIN_APPROX_SIMPLE)[-2]\n",
    "    #display x and y coordinate. only used for understanding and debugging\n",
    "    \"\"\"print(\"coor x: \" + str(color_x) + \"\\tcoor y: \" + str(color_y))\"\"\"\n",
    "    if len(cnts)>0:\n",
    "        cnt = max (cnts,key=cv2.contourArea)\n",
    "        (color_x,color_y),color_radius=cv2.minEnclosingCircle(cnt)\n",
    "        if color_radius > 2:\n",
    "            # Mark the detected color with circle\n",
    "            #left is x=0; right is x = 255\n",
    "            #high is y=0; low is y = 255\n",
    "            status = 1\n",
    "            cv2.circle(frame,(int(color_x),int(color_y)),int(color_radius),(255,0,255),2)  #might uncommment\n",
    "            #end mark detected color with circle\n",
    "            # Mark the detected color with rectangle\n",
    "            \"\"\"rot_rect = cv2.minAreaRect(cnt)\n",
    "            box = cv2.boxPoints(rot_rect)\n",
    "            box = np.int0(box)\n",
    "            cv2.drawContours(frame,[box],0,(0,0,0,),2)\"\"\"\n",
    "            #end mark detected color with rectangle\n",
    "    else:\n",
    "        status = 0\n",
    "    # Real-time return of image data for display\n",
    "    color_image.value = bgr8_to_jpeg(frame)"
   ]
  },
  {
   "cell_type": "code",
   "execution_count": null,
   "metadata": {},
   "outputs": [],
   "source": []
  },
  {
   "cell_type": "code",
   "execution_count": null,
   "metadata": {},
   "outputs": [],
   "source": []
  },
  {
   "cell_type": "code",
   "execution_count": null,
   "metadata": {},
   "outputs": [],
   "source": []
  },
  {
   "cell_type": "code",
   "execution_count": null,
   "metadata": {},
   "outputs": [],
   "source": []
  },
  {
   "cell_type": "code",
   "execution_count": null,
   "metadata": {},
   "outputs": [],
   "source": []
  }
 ],
 "metadata": {
  "kernelspec": {
   "display_name": "Python 3",
   "language": "python",
   "name": "python3"
  },
  "language_info": {
   "codemirror_mode": {
    "name": "ipython",
    "version": 3
   },
   "file_extension": ".py",
   "mimetype": "text/x-python",
   "name": "python",
   "nbconvert_exporter": "python",
   "pygments_lexer": "ipython3",
   "version": "3.6.9"
  }
 },
 "nbformat": 4,
 "nbformat_minor": 4
}
